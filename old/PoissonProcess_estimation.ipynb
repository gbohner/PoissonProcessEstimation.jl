{
 "cells": [
  {
   "cell_type": "markdown",
   "metadata": {},
   "source": [
    "# Estimating firing rates from neural rasters\n",
    "\n",
    "### Data: \n",
    "N trials (length 1), M neurons, {$t_{m,i}^n$} spike times for neuron M on trial N\n",
    "\n",
    "### Model:\n",
    "* D latent functions over [0, 1], each function is in an RKHS with kernel $k_d$\n",
    "\n",
    "$$ x^n_d(t) = \\sum_{j=1}^J \\alpha_{d,j}^n k_d(t, u^d_j) $$\n",
    "\n",
    "* $\\mathbf{C} \\in \\mathsf{R}^{M\\times D}$ maps the vector of latent functions drawn for trial n ($\\mathbf{x}^n$) into neural space\n",
    "\n",
    "* $\\mathbf{b} \\in \\mathsf{R}^M_+$ is the log mean firing rate for neurons.\n",
    "\n",
    "* There is a non-linearity between the linear combination of latent functions, and firing rates $\\mathbf{\\lambda}_m^n(t)$\n",
    "\n",
    "$$ \\lambda_m^n(t) = e^{\\mathbf{C}\\mathbf{x}^n(t) + \\mathbf{b}} $$\n",
    "\n",
    "\n",
    "### Log-likelihood\n",
    "$\\log p(y | \\lambda) = \\sum_{m,n,i}\\log\\lambda_m^n(t_{m,i}^n) - \\int_t \\lambda_m^n(t) dt$\n",
    "\n",
    "### Score function with penalties\n",
    "\n",
    "$$ \\mathcal{J}(\\mathbf{C}, \\alpha, u) = \\\\ \\\\\n",
    " \\text{Score objective:} \\\\ \\\\\n",
    " \\sum_{m,n,i} [ \\frac{1}{2}(\\sum_d C_{md} \\sum_j \\alpha_{d,j}^n \\nabla_t k_d(t_{m,i}^n, u^d_j))^2 \\\\\n",
    " + \\sum_d C_{md} \\sum_j \\alpha_{d,j}^n (\\nabla_t)^2 k_d(t_{m,i}^n, u^d_j) ] \\\\\n",
    " \\text{RKHS smoothness:} \\\\\n",
    "+ \\eta_\\text{RKHS} \\sum_{n,d} \\| x_d^n(t) \\|_\\text{RKHS} \\\\\n",
    " \\text{Loading matrix penalty} \\\\\n",
    " + \\eta_\\text{loading} \\sum_m \\| C_{m,\\cdot} \\|_p \n",
    " $$\n",
    " \n",
    " \n",
    " Different choices of the $p$-norm entail different penalty types for C:\n",
    " * $p=0$ - sparsity\n",
    " * $p=1$ - semi-sparse\n",
    " * $p=2$ - limited power\n",
    " * $p=\\infty$ - limited maximal contribution"
   ]
  },
  {
   "cell_type": "markdown",
   "metadata": {},
   "source": [
    "### Kernel choices\n",
    "\n",
    "In order to evaluate the score matching objective, we need to be able to cheaply evaluate the time-derivatives of kernels around the data points.\n",
    "\n",
    "Different kernels mean different interpretations. We want to design the D individual kernels such that the row space of $\\mathbf{C}$ mapping from the individual RKHSs is interpretable biologically.\n",
    "\n",
    "Certain kernels are useful to represent certain behavior:\n",
    "* Gaussian (RBF) kernel - Different $\\sigma$s represent frequency bands\n",
    "* Linear / polinomial kernel - Represents trends in the data ?\n",
    "* Sobolev-like kernel - Possibly frequency band limited -> Frequency content of the data"
   ]
  },
  {
   "cell_type": "code",
   "execution_count": null,
   "metadata": {
    "collapsed": false
   },
   "outputs": [],
   "source": [
    "#using MLKernels # Kernel functions (cannot differentiate)\n",
    "#include(\"/Users/gergobohner/Dropbox/Gatsby/scripts/julia/MLKernels.jl/src/MLKernels.jl\") # my version for ForwardDiffable kernels\n",
    "#using ForwardDiff\n",
    "using MLKernels\n",
    "using Optim # Optimisation for parameters\n",
    "using Calculus"
   ]
  },
  {
   "cell_type": "code",
   "execution_count": null,
   "metadata": {
    "collapsed": false
   },
   "outputs": [],
   "source": [
    "# Define parameters\n",
    "type PP_params\n",
    "    C::AbstractArray # M x D\n",
    "    α::AbstractArray # N x D x {J_i}\n",
    "    u::AbstractArray # D x {J_i}\n",
    "end\n",
    "\n",
    "function create_rand_params{T<:Integer}(N::T, M::T, D::T, J::AbstractArray{T})\n",
    "    #C = rand(M,D)\n",
    "    C = ones(M,D)\n",
    "    α = Array(Any, N, D)\n",
    "    u = Array(Any, D)\n",
    "    for d = 1:D\n",
    "        #u[d] = rand(J[d])\n",
    "        u[d] = linspace(0.1, 0.9, J[d])\n",
    "        for n = 1:N\n",
    "            α[n,d] = randn(J[d])\n",
    "        end\n",
    "    end\n",
    "    \n",
    "    return PP_params(C, α, u)\n",
    "end\n",
    "\n",
    "\n",
    "function name_params(params::AbstractArray)\n",
    "    C=params[1]\n",
    "    α=params[2]\n",
    "    u=params[3]\n",
    "    \n",
    "    N = size(α,1)\n",
    "    M = size(C,1)\n",
    "    D = size(C,2)\n",
    "    \n",
    "    J = zeros(D)\n",
    "    for d = 1:D\n",
    "        J[d] = length(u[d])\n",
    "    end \n",
    "    \n",
    "    return C, α, u, N, M, D, J\n",
    "end\n",
    "\n",
    "function name_params(params::Union{PP_params, PoissonProcessEstimation.RKHS_params})\n",
    "    C=params.C\n",
    "    α=params.α\n",
    "    u=params.u\n",
    "    \n",
    "    N = size(α,1)\n",
    "    M = size(C,1)\n",
    "    D = size(C,2)\n",
    "    \n",
    "    J = Array(Integer, D)\n",
    "    for d = 1:D\n",
    "        J[d] = round(length(u[d]),1)\n",
    "    end \n",
    "    \n",
    "    return C, α, u, N, M, D, J\n",
    "end\n",
    "\n",
    "function param_to_vec(θ::PP_params)\n",
    "    C, α, u, N, M, D, J = name_params(θ)\n",
    "    out = Array(Any,3)\n",
    "    out[1] = C\n",
    "    out[2] = α\n",
    "    out[3] = u\n",
    "    return out\n",
    "end\n",
    "\n",
    "function vec_to_param(params::AbstractArray)\n",
    "    return PP_params(out...)\n",
    "end"
   ]
  },
  {
   "cell_type": "code",
   "execution_count": null,
   "metadata": {
    "collapsed": false
   },
   "outputs": [],
   "source": [
    "# Visualisation functions\n",
    "function firing_rates(t_grid, θ::Any, KernList::AbstractArray; n_range=1, d_range=1, m_range=1)\n",
    "    C, α, u, N, M, D, J = name_params(θ)\n",
    "    latent_funcs = Array(Any,(maximum(n_range), maximum(d_range)))\n",
    "    for n = n_range\n",
    "        for d = d_range\n",
    "            tmp = function(t::Float64)\n",
    "                out = 0\n",
    "                for j = 1:length(u[d])\n",
    "                     out += (α[n,d][j] * kernel(KernList[d], t, u[d][j]));\n",
    "                end\n",
    "                return out\n",
    "            end\n",
    "            latent_funcs[n, d] = tmp\n",
    "        end\n",
    "    end\n",
    "    \n",
    "    firing_rate = Array(Any, (maximum(n_range), maximum(m_range)))\n",
    "    for n = n_range\n",
    "        for m = m_range\n",
    "            firing_rate[n,m] = zeros(length(t_grid))\n",
    "            for t = 1:length(t_grid)\n",
    "                for d = d_range\n",
    "                    firing_rate[n,m][t] += C[m,d]*latent_funcs[n,d](t_grid[t]);\n",
    "                end\n",
    "            end\n",
    "            firing_rate[n,m] = exp(firing_rate[n,m]) # exponential link function\n",
    "        end\n",
    "    end\n",
    "                \n",
    "    return firing_rate\n",
    "end"
   ]
  },
  {
   "cell_type": "code",
   "execution_count": null,
   "metadata": {
    "collapsed": false
   },
   "outputs": [],
   "source": [
    "\"\"\"\n",
    "The function takes data, parameters and a list of latent kernels in, and computes the cost defined above\n",
    "\n",
    "gives an option of computing the cost wrt only a single trial or neuron or latent dimension\n",
    "\"\"\"\n",
    "function Cost(data::AbstractArray, θ::Union{PP_params, AbstractArray}, KernList::AbstractArray; \n",
    "    slicing=[])\n",
    "    \n",
    "    # Name the parameters\n",
    "    C, α, u, N, M, D, J = name_params(θ)\n",
    "   \n",
    "    # Compute kernel derivatives wrt second argument\n",
    "    \n",
    "    # Define the computations we need to make\n",
    "    n_range = 1:N\n",
    "    m_range = 1:M\n",
    "    d_range = 1:D\n",
    "    \n",
    "    if !isempty(slicing)\n",
    "        if slicing[1] == \"d\"\n",
    "            d_range = slicing[2]\n",
    "        elseif slicing[1] == \"n\"\n",
    "            n_range = slicing[2]\n",
    "        elseif slicing[1] == \"m\"\n",
    "            m_range = slicing[2]\n",
    "        end\n",
    "    end\n",
    "    \n",
    "    \n",
    "    num_spikes = 0\n",
    "    score = 0\n",
    "    rkhs_norm = 0\n",
    "    C_penalty = 0\n",
    "    \n",
    "    # Computing the score\n",
    "    for n = n_range\n",
    "        for m = m_range\n",
    "            # Compute the mean score for the events of neuron m on trial n\n",
    "            score_nm = 0\n",
    "            for t = 1:length(data[n][m])\n",
    "                num_spikes += 1\n",
    "                score_nmt = 0\n",
    "                # First derivative squared\n",
    "                for d = d_range\n",
    "                    for j = 1:J[d]\n",
    "                        dK = Calculus.derivative(x->kernel(KernList[d], u[d][j], x))\n",
    "                        score_nmt += C[m,d]*α[n,d][j]*dK(data[n][m][t])\n",
    "                    end\n",
    "                end\n",
    "                score_nmt = score_nmt.^2\n",
    "                \n",
    "                #Second derivative\n",
    "                for d = d_range\n",
    "                    for j = 1:J[d]\n",
    "                        ddK = Calculus.second_derivative(x->kernel(KernList[d], u[d][j], x))\n",
    "                        score_nmt += C[m,d]*α[n,d][j]*ddK(data[n][m][t])\n",
    "                    end\n",
    "                end\n",
    "                score_nm += score_nmt\n",
    "            end\n",
    "            score += score_nm\n",
    "        end\n",
    "    end\n",
    "    \n",
    "\n",
    "    # Computing the RKHS norm\n",
    "    rkhs_norm = 0\n",
    "    for n = n_range\n",
    "        for d = d_range\n",
    "            if length(u[d]) > 1\n",
    "                rkhs_norm += α[n,d]'*kernelmatrix(KernList[d], reshape(u[d],J[d],1))*α[n,d]\n",
    "            else\n",
    "                rkhs_norm += α[n,d][1].^2\n",
    "            end\n",
    "        end\n",
    "    end\n",
    "    \n",
    "    # Computing the C-norm\n",
    "    C_2norm = 0\n",
    "    C_infnorm = 0\n",
    "    for m = m_range\n",
    "        C_2norm += norm(C[m,:])\n",
    "        C_infnorm += norm(C[m, :], Inf)\n",
    "    end\n",
    "                \n",
    "    \n",
    "    return (score/num_spikes + \n",
    "            1e1*exp(rkhs_norm/(length(n_range)*length(d_range))) + \n",
    "            1e0*exp((C_2norm+C_infnorm)/length(m_range)))\n",
    "end"
   ]
  },
  {
   "cell_type": "code",
   "execution_count": null,
   "metadata": {
    "collapsed": false
   },
   "outputs": [],
   "source": [
    "# Load the data\n",
    "using MAT # to load mat file\n",
    "# Load some data\n",
    "file = matopen(\"MotorHam1.mat\")\n",
    "rawdata = read(file, \"S\")\n",
    "size(rawdata) #neuron by timebin by trial\n",
    "# read the data into our input format, trial x (neuron) x ((spiketimes)))\n",
    "hasfired = zeros(size(rawdata,1),1) # track if a neuron has fired ever\n",
    "data = Array(Any, (size(rawdata,3),))\n",
    "for n = 1:length(data)\n",
    "    data[n] = Array(Any, (size(rawdata,1),))\n",
    "    for m = 1:size(rawdata,1)        \n",
    "        data[n][m] = find(x->(x>=1), rawdata[m,201:1200,n])*1e-3 # set of spiketimes between 0 and 1 sec\n",
    "        if length(data[n][m]) > 10\n",
    "            hasfired[m] = 1\n",
    "        end\n",
    "    end\n",
    "end\n",
    "\n",
    "# trim the data of neurons that are silent on every trial (no spikes whatsoever within the whole dataset)\n",
    "for n = 1:length(data)\n",
    "    data[n] = data[n][find(x->x==1, hasfired)]\n",
    "end\n",
    "        "
   ]
  },
  {
   "cell_type": "code",
   "execution_count": null,
   "metadata": {
    "collapsed": false
   },
   "outputs": [],
   "source": [
    "# KernList = [PeriodicKernel(1.0, convert(Float64, f1)) for f1 in collect(2:2:10)]\n",
    "# KernList = [LinearKernel(1.0); KernList]\n",
    "KernList = [GaussianKernel(200.0), GaussianKernel(50.0), GaussianKernel(10.0)]"
   ]
  },
  {
   "cell_type": "code",
   "execution_count": null,
   "metadata": {
    "collapsed": false
   },
   "outputs": [],
   "source": [
    "# θ = create_rand_params(5,3,length(KernList),repmat([1],length(KernList)));\n",
    "θ = create_rand_params(30,20,length(KernList),[8,8,8]);"
   ]
  },
  {
   "cell_type": "code",
   "execution_count": null,
   "metadata": {
    "collapsed": false
   },
   "outputs": [],
   "source": [
    "@time Cost(data, θ, KernList)"
   ]
  },
  {
   "cell_type": "code",
   "execution_count": null,
   "metadata": {
    "collapsed": false
   },
   "outputs": [],
   "source": [
    "# Coordinate descent functions\n",
    "function opt_αn!(x, n, θ::PP_params, KernList)\n",
    "    C, α, u, N, M, D, J = name_params(θ)\n",
    "    count = 1\n",
    "    for d=1:D\n",
    "        θ.α[n,d] = x[count:(count+J[d]-1)]\n",
    "        count+=J[d]\n",
    "    end\n",
    "    return Cost(data, θ, KernList, slicing=[\"n\", n])[1]\n",
    "end\n",
    "\n",
    "function opt_Cm!(x, m, θ::PP_params, KernList)\n",
    "    θ.C[m,:] = reshape(x, size(θ.C[m,:]))    \n",
    "    return Cost(data, θ, KernList, slicing=[\"m\", m])[1]\n",
    "end\n",
    "\n",
    "function opt_ud!(x, d, θ::PP_params, KernList)\n",
    "    if length(x)>1\n",
    "        θ.u[d] = reshape(x, size(θ.u[d]))    \n",
    "    else\n",
    "        θ.u[d] = x\n",
    "    end\n",
    "    return Cost(data, θ, KernList)[1]\n",
    "end\n",
    "\n",
    "\n",
    "function opt_all!(x, θ::PP_params, KernList)\n",
    "    C, α, u, N, M, D, J = name_params(θ)\n",
    "    count = 1;\n",
    "    \n",
    "    # Set C\n",
    "    θ.C = reshape(x[count:(count+M*D-1)], M, D);\n",
    "    count = count + M*D\n",
    "    \n",
    "    # Set α\n",
    "    for n = 1:N\n",
    "        for d=1:D\n",
    "            θ.α[n,d] = x[count:(count+J[d]-1)]\n",
    "            count+=J[d]\n",
    "        end\n",
    "    end\n",
    "    \n",
    "    # Set u\n",
    "    for d=1:D\n",
    "        θ.u[d] = x[count:(count+J[d]-1)]\n",
    "        count+=J[d]\n",
    "    end\n",
    "    \n",
    "    Cost(data, θ, KernList)\n",
    "end\n",
    "    "
   ]
  },
  {
   "cell_type": "code",
   "execution_count": null,
   "metadata": {
    "collapsed": false
   },
   "outputs": [],
   "source": [
    "θ_orig = θ\n",
    "θ_opt = deepcopy(θ)\n",
    "C, α, u, N, M, D, J = name_params(θ_opt);"
   ]
  },
  {
   "cell_type": "code",
   "execution_count": null,
   "metadata": {
    "collapsed": false
   },
   "outputs": [],
   "source": [
    "# Run the coordinate descent\n",
    "#opt_method = LBFGS()\n",
    "opt_method = NelderMead()\n",
    "\n",
    "for iters = 1:3\n",
    "    @show iters, Cost(data, θ_opt, KernList)\n",
    "    \n",
    "    \n",
    "    @time for n=1:N\n",
    "        res = optimize(x->(opt_αn!(x, n, θ_opt, KernList)), vcat(θ_opt.α[n,:]...), method=opt_method)\n",
    "        #@show n, Cost(data, θ_opt, KernList), Optim.converged(res)\n",
    "    end\n",
    "    @show N, Cost(data, θ_opt, KernList)\n",
    "    #=\n",
    "    @time for d=1:D\n",
    "        if length(u[d])>1\n",
    "            res = optimize(x->(opt_ud!(x, d, θ_opt, KernList)), collect(θ.u[d][:]), method=opt_method)\n",
    "        else\n",
    "            res = optimize(x->(opt_ud!(x, d, θ_opt, KernList)), 0.0, 1.0)\n",
    "        end\n",
    "        #@show d, Cost(data, θ_opt, KernList), Optim.converged(res)\n",
    "    end\n",
    "    =#\n",
    "    @show D, Cost(data, θ_opt, KernList)\n",
    "    @time for m=1:M\n",
    "        res = optimize(x->(opt_Cm!(x, m, θ_opt, KernList)), θ.C[m,:][:], method=opt_method)\n",
    "        #@show m, Cost(data, θ_opt, KernList), Optim.converged(res)\n",
    "    end\n",
    "    @show M, Cost(data, θ_opt, KernList)\n",
    "\n",
    "    #=\n",
    "    α_vec = vcat(θ_opt.α[1,:]...)\n",
    "    for n = 2:N α_vec = vcat(α_vec, θ_opt.α[n,:]...) end\n",
    "    res = optimize(x->opt_all!(x, θ_opt, KernList), vcat(θ_opt.C[:], α_vec, θ.u...), method=opt_method)\n",
    "    =#\n",
    "end"
   ]
  },
  {
   "cell_type": "code",
   "execution_count": null,
   "metadata": {
    "collapsed": false
   },
   "outputs": [],
   "source": [
    "# Plot data, true rate function and estimated rate function for a neuron on given trials\n",
    "using PlotlyJS\n",
    "\n",
    "num_neur = 1\n",
    "trials = 1:30\n",
    "dim_latent = 1:D\n",
    "\n",
    "#Plot estimated\n",
    "to_plot = Array(PlotlyJS.GenericTrace{Dict{Symbol,Any}}, size(data,1))\n",
    "rate_rand_plot = Array(PlotlyJS.GenericTrace{Dict{Symbol,Any}}, size(data,1))\n",
    "rate_est_plot = Array(PlotlyJS.GenericTrace{Dict{Symbol,Any}}, size(data,1))\n",
    "latent_plot = Array(PlotlyJS.GenericTrace{Dict{Symbol,Any}}, size(data,1))\n",
    "latent_est_plot = Array(PlotlyJS.GenericTrace{Dict{Symbol,Any}}, size(data,1))\n",
    "colors = [\"rgb(0,0,255)\", \"rgb(0,255,0)\", \"rgb(255,0,0)\", \"rgb(128,128,0)\", \"rgb(0,128,128)\"]\n",
    "for i1 = trials\n",
    "    #@show collect(data[i1][num_neur])\n",
    "    # Plot data\n",
    "    to_plot[i1] = scatter(;x=collect(data[i1][num_neur]), y=i1*collect(ones(size(data[i1][num_neur]))), mode=\"markers\", marker_color=colors[mod(i1,5)+1], yaxis=\"y2\")\n",
    "    \n",
    "    # Compute underlying rate and latent functions\n",
    "    rate_rand = firing_rates(0:0.001:1, θ_orig, KernList, n_range=i1, d_range=dim_latent, m_range=num_neur)\n",
    "    rate_est = firing_rates(0:0.001:1, θ_opt, KernList, n_range=i1, d_range=dim_latent, m_range=num_neur)\n",
    "    \n",
    "\n",
    "    rate_est_plot[i1] = scatter(; \n",
    "    x=collect(0:0.001:1), \n",
    "    y=collect(rate_est[i1, num_neur]),\n",
    "    line_color = colors[mod(i1,5)+1],\n",
    "    yaxis = \"y0\"\n",
    ")\n",
    "    \n",
    "    rate_rand_plot[i1] = scatter(; \n",
    "    x=collect(0:0.001:1), \n",
    "    y=collect(rate_rand[i1, num_neur]),\n",
    "    line_color = colors[mod(i1,5)+1],\n",
    "    yaxis = \"y0\"\n",
    ")\n",
    "\n",
    "end\n",
    "\n",
    "lo = Layout(;xaxis_range=[0,1])\n",
    "\n",
    "#plt = plot([Plot(to_plot[trials]); Plot(rate_plot[trials]);  Plot(rate_est_plot[trials]);  Plot(latent_plot[trials]);  Plot(latent_est_plot[trials])])\n",
    "#plt = plot([Plot(to_plot[trials], lo); Plot(rate_est_plot[trials], lo); Plot(rate_rand_plot[trials],lo)])\n",
    "plt = plot([Plot(to_plot[trials], lo); Plot(rate_est_plot[trials],lo); Plot(rate_rand_plot[trials],lo)])\n",
    "\n",
    "relayout!(plt, height=700)\n",
    "\n",
    "plt"
   ]
  },
  {
   "cell_type": "code",
   "execution_count": null,
   "metadata": {
    "collapsed": false
   },
   "outputs": [],
   "source": [
    "[1:M θ_opt.C]"
   ]
  },
  {
   "cell_type": "code",
   "execution_count": null,
   "metadata": {
    "collapsed": false
   },
   "outputs": [],
   "source": [
    "inds = sortperm(θ_opt.u[1])\n",
    "[θ_opt.u[1][inds] θ_opt.α[1,1][inds]]"
   ]
  },
  {
   "cell_type": "code",
   "execution_count": null,
   "metadata": {
    "collapsed": false
   },
   "outputs": [],
   "source": [
    "# Freq power for neuron num_neur\n",
    "num_neur = 1\n",
    "C[num_neur,:]*θ_opt.α[5,:][:]"
   ]
  },
  {
   "cell_type": "code",
   "execution_count": null,
   "metadata": {
    "collapsed": false
   },
   "outputs": [],
   "source": [
    "θ_opt.α[3,1]"
   ]
  },
  {
   "cell_type": "code",
   "execution_count": null,
   "metadata": {
    "collapsed": false
   },
   "outputs": [],
   "source": [
    "collect(θ_opt.u[1])"
   ]
  },
  {
   "cell_type": "code",
   "execution_count": null,
   "metadata": {
    "collapsed": false
   },
   "outputs": [],
   "source": [
    "θ.u[1]"
   ]
  },
  {
   "cell_type": "code",
   "execution_count": null,
   "metadata": {
    "collapsed": false
   },
   "outputs": [],
   "source": [
    "using JLD\n",
    "save(\"MotorHam1_results_kernel_big_closedform_onlyalpha.jld\", \"theta_opt\", θ_opt, \"data\", data, \"theta\", θ, \"KernList\", KernList)"
   ]
  },
  {
   "cell_type": "code",
   "execution_count": null,
   "metadata": {
    "collapsed": false
   },
   "outputs": [],
   "source": [
    "using NBInclude\n",
    "nbinclude(\"PoissonProcessestimation.jl/PoissonProcessEstimation.ipynb\")\n",
    "import PoissonProcessEstimation"
   ]
  },
  {
   "cell_type": "code",
   "execution_count": null,
   "metadata": {
    "collapsed": false
   },
   "outputs": [],
   "source": [
    "θ_opt2 = deepcopy(PoissonProcessEstimation.RKHS_params(θ_orig.C, θ_orig.α[1:5,:], θ_orig.u))\n",
    "PoissonProcessEstimation.optimise!(data, θ_opt2, KernList)"
   ]
  },
  {
   "cell_type": "code",
   "execution_count": null,
   "metadata": {
    "collapsed": false
   },
   "outputs": [],
   "source": [
    "θ_opt_slow =θ_opt\n",
    "θ_opt = θ_opt2"
   ]
  },
  {
   "cell_type": "code",
   "execution_count": null,
   "metadata": {
    "collapsed": true
   },
   "outputs": [],
   "source": []
  }
 ],
 "metadata": {
  "kernelspec": {
   "display_name": "Julia 0.4.5",
   "language": "julia",
   "name": "julia-0.4"
  },
  "language_info": {
   "file_extension": ".jl",
   "mimetype": "application/julia",
   "name": "julia",
   "version": "0.4.5"
  }
 },
 "nbformat": 4,
 "nbformat_minor": 0
}
