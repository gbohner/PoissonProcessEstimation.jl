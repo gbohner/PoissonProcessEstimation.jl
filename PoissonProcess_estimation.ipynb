{
 "cells": [
  {
   "cell_type": "markdown",
   "metadata": {},
   "source": [
    "# Estimating firing rates from neural rasters\n",
    "\n",
    "### Data: \n",
    "N trials (length T), M neurons, {$t_{m,i}^n$} spike times for neuron M on trial N\n",
    "\n",
    "### Model:\n",
    "* D latent functions over [0, T], each function is in an RKHS with kernel $k_d$\n",
    "\n",
    "$$ x^n_d(t) = \\sum_{j=1}^J \\alpha_{d,j}^n k_d(t, u^d_j) $$\n",
    "\n",
    "* $\\mathbf{C} \\in \\mathsf{R}^{M\\times D}$ maps the vector of latent functions drawn for trial n $\\mathbf{x}^n$ into neural space\n",
    "\n",
    "* $\\mathbf{b} \\in \\mathsf{R}^M_+$ is the log mean firing rate for neurons.\n",
    "\n",
    "* There is a non-linearity between the linear combination of latent functions, and firing rates $\\mathbf{\\lambda}_m^n(t)$\n",
    "\n",
    "$$ \\lambda_m^n(t) = e^{\\mathbf{C}\\mathbf{x}^n(t) + \\mathbf{b}} $$\n",
    "\n",
    "\n",
    "### Log-likelihood\n",
    "$\\log p(y | \\lambda) = \\sum_{m,n,i}\\log\\lambda_m^n(t_{m,i}^n) - \\int_t \\lambda_m^n(t) dt$\n",
    "\n",
    "### Score function with penalties\n",
    "\n",
    "$$ \\mathcal{J}(\\mathbf{C}, \\alpha, u) = \\\\ \\\\\n",
    " \\text{Score objective:} \\\\ \\\\\n",
    " \\sum_{m,n,i} [ (\\sum_d C_{md} \\sum_j \\alpha_{d,j}^n \\nabla_t k_d(t_{m,i}^n, u^d_j))^2 \\\\\n",
    " + \\sum_d C_{md} \\sum_j \\alpha_{d,j}^n (\\nabla_t)^2 k_d(t_{m,i}^n, u^d_j) ] \\\\\n",
    " \\text{RKHS smoothness:} \\\\\n",
    "+ \\eta_\\text{RKHS} \\sum_{n,d} \\| x_d^n(t) \\|_\\text{RKHS} \\\\\n",
    " \\text{Loading matrix penalty} \\\\\n",
    " + \\eta_\\text{loading} \\sum_m \\| C_{m,\\cdot} \\|_p \n",
    " $$"
   ]
  },
  {
   "cell_type": "markdown",
   "metadata": {},
   "source": [
    "### Kernel choices\n",
    "\n",
    "In order to evaluate the score matching objective, we need to be able to cheaply evaluate the time-derivatives of kernels around the data points.\n",
    "\n",
    "Different kernels mean different interpretations. We want to design the D individual kernels such that the row space of $\\mathbf{C}$ mapping from the individual RKHSs is interpretable biologically.\n",
    "\n",
    "Certain kernels are useful to represent certain behavior:\n",
    "* Gaussian (RBF) kernel - Different $\\sigma$s represent frequency bands\n",
    "* Linear / polinomial kernel - Represents trends in the data ?\n",
    "* Sobolev-like kernel - Possibly frequency band limited -> Frequency content of the data"
   ]
  },
  {
   "cell_type": "code",
   "execution_count": null,
   "metadata": {
    "collapsed": true
   },
   "outputs": [],
   "source": []
  }
 ],
 "metadata": {
  "kernelspec": {
   "display_name": "Julia 0.4.5",
   "language": "julia",
   "name": "julia-0.4"
  },
  "language_info": {
   "file_extension": ".jl",
   "mimetype": "application/julia",
   "name": "julia",
   "version": "0.4.5"
  }
 },
 "nbformat": 4,
 "nbformat_minor": 0
}
