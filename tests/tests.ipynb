{
 "cells": [
  {
   "cell_type": "code",
   "execution_count": 4,
   "metadata": {
    "collapsed": false
   },
   "outputs": [
    {
     "name": "stderr",
     "output_type": "stream",
     "text": [
      "WARNING: replacing module PoissonProcessEstimation\n"
     ]
    }
   ],
   "source": [
    "using NBInclude\n",
    "nbinclude(\"../src/PoissonProcessEstimation.ipynb\")\n",
    "using PoissonProcessEstimation"
   ]
  },
  {
   "cell_type": "code",
   "execution_count": 7,
   "metadata": {
    "collapsed": false
   },
   "outputs": [
    {
     "name": "stdout",
     "output_type": "stream",
     "text": [
      "PoissonProcessEstimation.subspace(reshape(hcat([1.0,0,0,0],[0,0,0,1.0]),4,2),hcat([0,0,1.0,0],[0,1.0,0,0])) = ([90.0,90.0],\n",
      "[1.0 0.0\n",
      " 0.0 0.0\n",
      " 0.0 0.0\n",
      " 0.0 -1.0],\n",
      "\n",
      "[0.0 0.0\n",
      " 0.0 1.0\n",
      " -1.0 0.0\n",
      " 0.0 0.0])\n",
      "PoissonProcessEstimation.subspace(reshape(hcat([1.0,0,0,0],[0,0,0,1.0]),4,2),hcat([1.0,0,1.0,0],[0,1.0,0,0])) = ([45.00000000000003,90.0],\n",
      "[1.0 0.0\n",
      " 0.0 0.0\n",
      " 0.0 0.0\n",
      " 0.0 -1.0],\n",
      "\n",
      "[0.7071067811865472 0.0\n",
      " 0.0 1.0\n",
      " 0.7071067811865475 0.0\n",
      " 0.0 0.0])\n",
      "PoissonProcessEstimation.subspace(reshape(hcat([1.0,0,0,0],[0,0,0,1.0]),4,2),hcat([1.0,0,0,0],[0,1.0,0,0])) = ([0.0,90.0],\n",
      "[1.0 0.0\n",
      " 0.0 0.0\n",
      " 0.0 0.0\n",
      " 0.0 -1.0],\n",
      "\n",
      "[1.0 0.0\n",
      " 0.0 1.0\n",
      " 0.0 0.0\n",
      " 0.0 0.0])\n"
     ]
    }
   ],
   "source": [
    "# Test subspace angles\n",
    "@show PoissonProcessEstimation.subspace(reshape(hcat([1.0, 0, 0, 0], [0, 0, 0, 1.0]),4,2), hcat([0, 0, 1.0, 0], [0, 1.0, 0, 0]));\n",
    "@show PoissonProcessEstimation.subspace(reshape(hcat([1.0, 0, 0, 0], [0, 0, 0, 1.0]),4,2), hcat([1.0, 0, 1.0, 0], [0, 1.0, 0, 0]));\n",
    "@show PoissonProcessEstimation.subspace(reshape(hcat([1.0, 0, 0, 0], [0, 0, 0, 1.0]),4,2), hcat([1.0, 0, 0, 0], [0, 1.0, 0, 0]));"
   ]
  },
  {
   "cell_type": "code",
   "execution_count": null,
   "metadata": {
    "collapsed": true
   },
   "outputs": [],
   "source": []
  }
 ],
 "metadata": {
  "kernelspec": {
   "display_name": "Julia 0.4.5",
   "language": "julia",
   "name": "julia-0.4"
  },
  "language_info": {
   "file_extension": ".jl",
   "mimetype": "application/julia",
   "name": "julia",
   "version": "0.4.5"
  }
 },
 "nbformat": 4,
 "nbformat_minor": 0
}
