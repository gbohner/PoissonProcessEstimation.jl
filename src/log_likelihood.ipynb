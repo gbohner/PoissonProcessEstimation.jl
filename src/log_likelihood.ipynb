{
 "cells": [
  {
   "cell_type": "code",
   "execution_count": 21,
   "metadata": {
    "collapsed": false
   },
   "outputs": [
    {
     "ename": "LoadError",
     "evalue": "LoadError: UndefVarError: PoissonProcessParams not defined\nwhile loading In[21], in expression starting on line 433",
     "output_type": "error",
     "traceback": [
      "LoadError: UndefVarError: PoissonProcessParams not defined\nwhile loading In[21], in expression starting on line 433",
      ""
     ]
    }
   ],
   "source": [
    "\"\"\"\n",
    "Evaluate the log likelihood of the data given the generated inhomogeneous rate function of the Poisson Process\n",
    "\"\"\"\n",
    "function log_likelihood(data::AbstractArray, θ::PoissonProcessParams, KernList::AbstractArray)\n",
    "    C, α, u, N, M, D, J = name_params(θ)\n",
    "    \n",
    "    out = 0 # total log likelihood\n",
    "    out1 = Array(Any,(N,M)); # log likelihood of individual [n,m] observations\n",
    "    out2 = Array(Any,(N,M)) # Function values at spikes\n",
    "    out3 = Array(Any,(N,M)) # Integrals of rate function at individual neurons\n",
    "    for n = 1:N\n",
    "        for m = 1:M\n",
    "            # Get the predicted firing rates at the spikes\n",
    "            frate = firing_rates(data[n][m], θ, KernList; n_range=n, m_range=m)[n,m]\n",
    "            out2[n,m] = frate\n",
    "            \n",
    "            # Compute the numerical integral of the firing rates\n",
    "            ∫frate_dt = hquadrature(t->(firing_rates(t, θ, KernList; n_range=n, m_range=m)[n,m][1]), 0.0, 1.0, reltol=1e-2, abstol=length(frate)*1e-2)[1]\n",
    "            out3[n,m] = ∫frate_dt\n",
    "            \n",
    "            out1[n,m] = sum(log(frate)) - ∫frate_dt # ∑log(λ(t_i)) - ∫ λ(t) dt\n",
    "            \n",
    "            #assert(out1[n,m]<0)\n",
    "        end\n",
    "    end\n",
    "    \n",
    "    out = sum(out1[:])\n",
    "    return out, out1, out2, out3\n",
    "end"
   ]
  }
 ],
 "metadata": {
  "kernelspec": {
   "display_name": "Julia 0.4.5",
   "language": "julia",
   "name": "julia-0.4"
  },
  "language_info": {
   "file_extension": ".jl",
   "mimetype": "application/julia",
   "name": "julia",
   "version": "0.4.5"
  }
 },
 "nbformat": 4,
 "nbformat_minor": 0
}
