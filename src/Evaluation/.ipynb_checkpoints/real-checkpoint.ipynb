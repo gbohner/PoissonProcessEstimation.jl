{
 "cells": [
  {
   "cell_type": "code",
   "execution_count": null,
   "metadata": {
    "collapsed": true
   },
   "outputs": [],
   "source": [
    "\"\"\"\n",
    "Implement \"leave-one neuron (m) on one trial (n)\" out\n",
    "\n",
    "\"\"\"\n",
    "function predictive_log_likelihood(n::Integer, m::Integer,\n",
    "    data::AbstractArray, θ_opt::Union{PoissonProcessParams, AbstractArray}, KernList::AbstractArray)\n",
    "    # θ_opt already has the learned C, b and u\n",
    "    # Infer α_s on trial n from neuron {1..M}\\m to reconstruct latent functions, then use those to predict firing rate function of neuron m\n",
    "    \n",
    "    C, α, u, N, M, D, J = name_params(θ_opt)\n",
    "    \n",
    "    # Leave neuron m out\n",
    "    data_red = Array(Any,1)\n",
    "    data_red[1] = Array(Any, M-1)\n",
    "    for m1 = 1:M-1\n",
    "        m_ind = ([1:m-1; m+1:M])[m1]\n",
    "        data_red[1][m1] = data[n][m_ind]\n",
    "    end\n",
    "    θ_red = deepcopy(θ_opt)\n",
    "    θ_red.α = Array(Any,(1,D))\n",
    "    for d = 1:D \n",
    "        θ_red.α[1,d] = zeros(size(θ_opt.α[1,d]))\n",
    "    end\n",
    "    θ_red.C = θ_red.C[[1:m-1; m+1:M],:]\n",
    "    θ_red.b = θ_red.b[[1:m-1; m+1:M],:]\n",
    "    \n",
    "    Ktu, dtKtu, ddtKtu, Kuu, I = build_kernels(data_red, θ_red, KernList)\n",
    "    infer_alpha!(dtKtu, ddtKtu, Kuu, I, θ_red)\n",
    "    \n",
    "    \n",
    "    # Compute predictive log_likelihood on left-out trial's left_out neuron\n",
    "    data_nm = Array(Any,1)\n",
    "    data_nm[1] = Array(Any,1)\n",
    "    data_nm[1][1] = data[n][m]\n",
    "    \n",
    "    θ_nm = deepcopy(θ_opt)\n",
    "    θ_nm.C = θ_nm.C[m:m,:] # Restrict to neuron m\n",
    "    θ_nm.b = θ_nm.b[m:m] # Restrict to neuron m\n",
    "    θ_nm.α = θ_red.α[1:1,:] # Get the inferred αs from part 1\n",
    "    \n",
    "    return log_likelihood(data_nm, θ_nm, KernList)[1]\n",
    "    \n",
    "end"
   ]
  }
 ],
 "metadata": {
  "kernelspec": {
   "display_name": "Julia 0.4.5",
   "language": "julia",
   "name": "julia-0.4"
  },
  "language_info": {
   "file_extension": ".jl",
   "mimetype": "application/julia",
   "name": "julia",
   "version": "0.4.5"
  }
 },
 "nbformat": 4,
 "nbformat_minor": 0
}
