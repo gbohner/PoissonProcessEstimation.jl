{
 "cells": [
  {
   "cell_type": "code",
   "execution_count": 2,
   "metadata": {
    "collapsed": false
   },
   "outputs": [
    {
     "ename": "LoadError",
     "evalue": "LoadError: UndefVarError: PoissonProcessParams not defined\nwhile loading In[2], in expression starting on line 1",
     "output_type": "error",
     "traceback": [
      "LoadError: UndefVarError: PoissonProcessParams not defined\nwhile loading In[2], in expression starting on line 1",
      ""
     ]
    }
   ],
   "source": [
    "function Cost(Ktu, dtKtu, ddtKtu, Kuu, I, θ::Union{PoissonProcessParams, AbstractArray}, KernList::AbstractArray;\n",
    "              η_RKHS=1e1, η_Cm = 1e1)\n",
    "    \n",
    "    C, α, u, N, M, D, J = name_params(θ)\n",
    "    \n",
    "    cost = 0;\n",
    "    num_spikes = 0\n",
    "    \n",
    "    for n = 1:N\n",
    "        cur_spike = 0;\n",
    "        for m = 1:M\n",
    "            num_spikes += I[n][m]\n",
    "            for i = 1:I[n][m]\n",
    "                tmp_cost_deriv = 0\n",
    "                tmp_cost_deriv2 = 0\n",
    "                cur_spike += 1\n",
    "                cur_inducing = 0\n",
    "                for d = 1:D\n",
    "                    for j = 1:J[d]\n",
    "                        cur_inducing += 1\n",
    "                        tmp_cost_deriv += C[m,d]*α[n,d][j]*dtKtu[n][cur_spike, cur_inducing]\n",
    "                        tmp_cost_deriv2 += C[m,d]*α[n,d][j]*ddtKtu[n][cur_spike, cur_inducing]\n",
    "                    end\n",
    "                end\n",
    "                \n",
    "                cost += 0.5*tmp_cost_deriv.^2 + tmp_cost_deriv2\n",
    "            end\n",
    "        end\n",
    "    end\n",
    "    \n",
    "\n",
    "    # Computing the RKHS norm\n",
    "    rkhs_norm = 0\n",
    "    for n = 1:N\n",
    "        for d = 1:D\n",
    "            d_inds = (d>1?cumsum(J)[d-1]+1:1):cumsum(J)[d];\n",
    "            rkhs_norm += α[n,d]'*Kuu[n][d_inds,d_inds]*α[n,d]\n",
    "        end\n",
    "    end\n",
    "    \n",
    "    # Computing the C-norm\n",
    "    C_2norm = 0\n",
    "    C_infnorm = 0\n",
    "    for m = 1:M\n",
    "        C_2norm += norm(C[m,:])\n",
    "        C_infnorm += norm(C[m, :], Inf)\n",
    "    end\n",
    "    \n",
    "    return cost/num_spikes + η_RKHS*rkhs_norm + η_Cm * C_2norm\n",
    "end\n",
    "\n",
    "\n",
    "\n",
    "function Cost(data::AbstractArray, θ::Union{PoissonProcessParams, AbstractArray}, KernList::AbstractArray;\n",
    "              η_RKHS=1e1, η_Cm = 1e1)\n",
    "    \n",
    "    # Compute the kernels\n",
    "    Ktu, dtKtu, ddtKtu, Kuu, I = build_kernels(data, θ, KernList)\n",
    "    \n",
    "    # Pass them on onto the kernely version\n",
    "    return Cost(Ktu, dtKtu, ddtKtu, Kuu, I, θ, KernList;\n",
    "              η_RKHS=η_RKHS, η_Cm = η_Cm)\n",
    "end"
   ]
  },
  {
   "cell_type": "code",
   "execution_count": null,
   "metadata": {
    "collapsed": true
   },
   "outputs": [],
   "source": []
  }
 ],
 "metadata": {
  "kernelspec": {
   "display_name": "Julia 0.4.5",
   "language": "julia",
   "name": "julia-0.4"
  },
  "language_info": {
   "file_extension": ".jl",
   "mimetype": "application/julia",
   "name": "julia",
   "version": "0.4.5"
  }
 },
 "nbformat": 4,
 "nbformat_minor": 0
}
