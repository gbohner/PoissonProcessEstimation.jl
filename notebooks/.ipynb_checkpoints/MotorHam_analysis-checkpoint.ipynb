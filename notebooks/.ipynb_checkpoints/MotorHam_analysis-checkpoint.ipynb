{
 "cells": [
  {
   "cell_type": "code",
   "execution_count": null,
   "metadata": {
    "collapsed": false
   },
   "outputs": [],
   "source": [
    "using NBInclude\n",
    "nbinclude(\"../src/PoissonProcessEstimation.ipynb\")\n",
    "import PoissonProcessEstimation"
   ]
  },
  {
   "cell_type": "code",
   "execution_count": null,
   "metadata": {
    "collapsed": false
   },
   "outputs": [],
   "source": [
    "# Load the data\n",
    "using MAT # to load mat file\n",
    "# Load some data\n",
    "file = matopen(\"MotorHam1.mat\")\n",
    "rawdata = read(file, \"S\")\n",
    "size(rawdata) #neuron by timebin by trial\n",
    "# read the data into our input format, trial x (neuron) x ((spiketimes)))\n",
    "hasfired = zeros(size(rawdata,1),1) # track if a neuron has fired ever\n",
    "data = Array(Any, (size(rawdata,3),))\n",
    "for n = 1:length(data)\n",
    "    data[n] = Array(Any, (size(rawdata,1),))\n",
    "    for m = 1:size(rawdata,1)        \n",
    "        data[n][m] = find(x->(x>=1), rawdata[m,201:1200,n])*1e-3 # set of spiketimes between 0 and 1 sec\n",
    "        if length(data[n][m]) > 0 # There was at least one trial where the neuron has fired >X times\n",
    "            hasfired[m] = 1\n",
    "        end\n",
    "    end\n",
    "end\n",
    "\n",
    "# trim the data of neurons that are silent on every trial (no spikes whatsoever within the whole dataset)\n",
    "for n = 1:length(data)\n",
    "    data[n] = data[n][find(x->x==1, hasfired)]\n",
    "end\n",
    "        "
   ]
  },
  {
   "cell_type": "code",
   "execution_count": null,
   "metadata": {
    "collapsed": false
   },
   "outputs": [],
   "source": [
    "# Set up kernels\n",
    "KernList = [MLKernels.GaussianKernel(100.0), MLKernels.GaussianKernel(100.0), MLKernels.GaussianKernel(100.0), MLKernels.GaussianKernel(100.0)]"
   ]
  },
  {
   "cell_type": "code",
   "execution_count": null,
   "metadata": {
    "collapsed": false
   },
   "outputs": [],
   "source": [
    "# Initialise params\n",
    "# Full dataset\n",
    "θ = PoissonProcessEstimation.create_rand_params(length(data)-10,length(data[1]),length(KernList),[20,20,20,20]);\n",
    "# Use last 10 trials to evaluate predictive likelihood\n",
    "\n",
    "\n",
    "#Reduced dataset\n",
    "#θ = PoissonProcessEstimation.create_rand_params(50,20,length(KernList),[20,20,20,10]);\n",
    "\n",
    "# Symmetry breaking of C\n",
    "θ.C = θ.C + randn(size(θ.C))*0.05;"
   ]
  },
  {
   "cell_type": "code",
   "execution_count": null,
   "metadata": {
    "collapsed": false
   },
   "outputs": [],
   "source": [
    "θ_orig = θ\n",
    "θ_opt = deepcopy(θ)\n",
    "C, α, u, N, M, D, J = PoissonProcessEstimation.name_params(θ_opt);\n",
    "println(\"N=$(N), M=$(M), D=$(D)\")"
   ]
  },
  {
   "cell_type": "code",
   "execution_count": null,
   "metadata": {
    "collapsed": false
   },
   "outputs": [],
   "source": [
    "# Run optimisation\n",
    "@time Ktu, dtKtu, ddtKtu, Kuu, I = \n",
    "    PoissonProcessEstimation.optimise!(data, θ_opt, KernList, η_RKHS=1e2, η_Cm=1e1, num_iters = 25, verbose=false, compute_likelihood=false);"
   ]
  },
  {
   "cell_type": "code",
   "execution_count": null,
   "metadata": {
    "collapsed": false
   },
   "outputs": [],
   "source": [
    "#using JLD\n",
    "save(\"MotorHam1_results_kernel_all_likelihood.jld\", \"theta_opt\", θ_opt, \"data\", data, \"theta\", θ, \"KernList\", KernList)"
   ]
  },
  {
   "cell_type": "code",
   "execution_count": null,
   "metadata": {
    "collapsed": false
   },
   "outputs": [],
   "source": [
    "PoissonProcessEstimation.plot_params(data, θ_opt, θ_orig, KernList, num_neur=35, trials=1:100)"
   ]
  },
  {
   "cell_type": "code",
   "execution_count": null,
   "metadata": {
    "collapsed": false
   },
   "outputs": [],
   "source": [
    "ll, all_ll, rate_at_spikes, Λ = PoissonProcessEstimation.log_likelihood(data, θ_opt, KernList);"
   ]
  },
  {
   "cell_type": "code",
   "execution_count": null,
   "metadata": {
    "collapsed": false
   },
   "outputs": [],
   "source": [
    "ll"
   ]
  },
  {
   "cell_type": "markdown",
   "metadata": {},
   "source": [
    "# Test predictive log_likelihood"
   ]
  },
  {
   "cell_type": "code",
   "execution_count": null,
   "metadata": {
    "collapsed": false
   },
   "outputs": [],
   "source": [
    "#using JLD\n",
    "#θ_opt, data, θ, KernList= load(\"MotorHam1_results_kernel_all_likelihood.jld\", \"theta_opt\", \"data\",  \"theta\",  \"KernList\");"
   ]
  },
  {
   "cell_type": "code",
   "execution_count": null,
   "metadata": {
    "collapsed": false
   },
   "outputs": [],
   "source": [
    "# As an alternative model, just predict the firing rate to be homogeneous and the average of previous trials\n",
    "θ_flat = PoissonProcessEstimation.RKHS_params(zeros(size(θ_opt.C)), θ_opt.α, θ_opt.u, log(mean(convert(Array{Float64,2},hcat(I...)),2))) # Predict with average the observed firing rate;\n"
   ]
  },
  {
   "cell_type": "code",
   "execution_count": null,
   "metadata": {
    "collapsed": false
   },
   "outputs": [],
   "source": [
    "# Compute predictive likelihoods given the m-th neuron is unobserved on the nth trial\n",
    "predLL = zeros(2,10,M)\n",
    "for n = 1:10\n",
    "    for m = 1:M\n",
    "        predLL[:, n, m] =\n",
    "        [PoissonProcessEstimation.predictive_log_likelihood(N-10+n, m, data, deepcopy(θ_opt), KernList),\n",
    "            PoissonProcessEstimation.predictive_log_likelihood(N-10+n, m, data, deepcopy(θ_flat), KernList)]\n",
    "    end\n",
    "end"
   ]
  },
  {
   "cell_type": "code",
   "execution_count": null,
   "metadata": {
    "collapsed": true
   },
   "outputs": [],
   "source": []
  }
 ],
 "metadata": {
  "kernelspec": {
   "display_name": "Julia 0.4.5",
   "language": "julia",
   "name": "julia-0.4"
  },
  "language_info": {
   "file_extension": ".jl",
   "mimetype": "application/julia",
   "name": "julia",
   "version": "0.4.5"
  }
 },
 "nbformat": 4,
 "nbformat_minor": 0
}
