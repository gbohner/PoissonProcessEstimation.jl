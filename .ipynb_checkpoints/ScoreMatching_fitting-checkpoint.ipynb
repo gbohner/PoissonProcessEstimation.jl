{
 "cells": [
  {
   "cell_type": "markdown",
   "metadata": {},
   "source": [
    "# Score matching fitting\n",
    "\n",
    "Given data, identify the parameters that have generated the data"
   ]
  },
  {
   "cell_type": "markdown",
   "metadata": {},
   "source": [
    "# 1. Simulate from the model, and fit it"
   ]
  },
  {
   "cell_type": "code",
   "execution_count": null,
   "metadata": {
    "collapsed": true
   },
   "outputs": [],
   "source": [
    "# Simulate from the model\n",
    "# x.T, x.C, x.θ, x.ϕ, x.b, x.ω\n",
    "M = 30;\n",
    "N = 10;\n",
    "D = 2;\n",
    "F = 10;\n",
    "true_params = GLMparams(1, randn(M,D), randn(D,F)*1, 2*π.*rand(F, N), log(30)*ones(M,1), 1);"
   ]
  }
 ],
 "metadata": {
  "kernelspec": {
   "display_name": "Julia 0.4.5",
   "language": "julia",
   "name": "julia-0.4"
  },
  "language_info": {
   "file_extension": ".jl",
   "mimetype": "application/julia",
   "name": "julia",
   "version": "0.4.5"
  }
 },
 "nbformat": 4,
 "nbformat_minor": 0
}
