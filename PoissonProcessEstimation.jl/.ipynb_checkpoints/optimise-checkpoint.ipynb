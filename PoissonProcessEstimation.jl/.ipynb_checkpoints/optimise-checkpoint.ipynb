{
 "cells": [
  {
   "cell_type": "code",
   "execution_count": 2,
   "metadata": {
    "collapsed": false
   },
   "outputs": [
    {
     "ename": "LoadError",
     "evalue": "LoadError: UndefVarError: PoissonProcessParams not defined\nwhile loading In[2], in expression starting on line 433",
     "output_type": "error",
     "traceback": [
      "LoadError: UndefVarError: PoissonProcessParams not defined\nwhile loading In[2], in expression starting on line 433",
      ""
     ]
    }
   ],
   "source": [
    "\"\"\"\n",
    "Infers α in closed form\n",
    "\"\"\"\n",
    "function infer_alpha!(data::AbstractArray, θ_opt::Union{PoissonProcessParams, AbstractArray}, KernList::AbstractArray; \n",
    "    η_RKHS=1e2)\n",
    "    \n",
    "    C, α, u, N, M, D, J = name_params(θ_opt)\n",
    "    \n",
    "    for n = 1:N\n",
    "        # Get the kernels for trial n\n",
    "        @time Ktu, dtKtu, ddtKtu, Kuu, I = build_kernels_infer(data, θ_opt, KernList, n)\n",
    "        \n",
    "        # Compute Cext\n",
    "        Itot = convert(Integer, sum(I))\n",
    "        Jtot = convert(Integer, sum(J))\n",
    "        Cext = zeros(Itot,Jtot)\n",
    "        for m = 1:M\n",
    "            m_inds = (m>1?cumsum(I)[m-1]+1:1):cumsum(I)[m];\n",
    "            for d = 1:D\n",
    "                d_inds = (d>1?cumsum(J)[d-1]+1:1):cumsum(J)[d];\n",
    "                Cext[m_inds, d_inds] = C[m,d]\n",
    "            end\n",
    "        end\n",
    "        \n",
    "        dCK = Cext.*dtKtu; # Itot x Jtot\n",
    "        ddCK = Cext.*ddtKtu; # Itot x Jtot\n",
    "        \n",
    "        # Solve for α on trial n\n",
    "        @show size(sum(ddCK,1)), size(sum(ddCK,1)')\n",
    "        @time α_opt = -(dCK' * dCK + η_RKHS*Kuu)\\(sum(ddCK,1)')\n",
    "        \n",
    "        # Sort it into actual α\n",
    "        for d = 1:D\n",
    "            d_inds = (d>1?cumsum(J)[d-1]+1:1):cumsum(J)[d];\n",
    "            θ_opt.α[n,d] = α_opt[d_inds]\n",
    "        end\n",
    "    end\n",
    "end\n",
    "\n",
    "\n",
    "\"\"\"\n",
    "Optimises θ_opt in place\n",
    "\"\"\"\n",
    "function optimise!(data::AbstractArray, θ_opt::Union{PoissonProcessParams, AbstractArray}, KernList::AbstractArray)\n",
    "    infer_alpha!(data::AbstractArray, θ_opt::Union{PoissonProcessParams, AbstractArray}, KernList::AbstractArray)\n",
    "end"
   ]
  },
  {
   "cell_type": "code",
   "execution_count": null,
   "metadata": {
    "collapsed": true
   },
   "outputs": [],
   "source": []
  }
 ],
 "metadata": {
  "kernelspec": {
   "display_name": "Julia 0.4.5",
   "language": "julia",
   "name": "julia-0.4"
  },
  "language_info": {
   "file_extension": ".jl",
   "mimetype": "application/julia",
   "name": "julia",
   "version": "0.4.5"
  }
 },
 "nbformat": 4,
 "nbformat_minor": 0
}
