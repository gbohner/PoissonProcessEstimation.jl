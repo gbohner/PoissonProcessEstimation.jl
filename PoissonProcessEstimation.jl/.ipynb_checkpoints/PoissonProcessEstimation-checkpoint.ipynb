{
 "cells": [
  {
   "cell_type": "code",
   "execution_count": 8,
   "metadata": {
    "collapsed": false
   },
   "outputs": [
    {
     "name": "stderr",
     "output_type": "stream",
     "text": [
      "WARNING: replacing module PoissonProcessEstimation\n"
     ]
    },
    {
     "data": {
      "text/plain": [
       "PoissonProcessEstimation"
      ]
     },
     "execution_count": 8,
     "metadata": {},
     "output_type": "execute_result"
    }
   ],
   "source": [
    "module PoissonProcessEstimation\n",
    "\n",
    "using MLKernels\n",
    "using Optim # Optimisation for parameters\n",
    "using Calculus\n",
    "using NBInclude\n",
    "\n",
    "# Abstract types #\n",
    "#----------------#\n",
    "abstract PoissonProcessParams\n",
    "abstract OptimisationParams\n",
    "\n",
    "############\n",
    "# Includes #\n",
    "############\n",
    "\n",
    "nbinclude(\"params.ipynb\") # -> RKHS_params, create_rand_params(...)\n",
    "nbinclude(\"cost_function.ipynb\") # -> Cost(...)\n",
    "nbinclude(\"build_kernels.ipynb\") # -> build_kernels_infer(n, ...)\n",
    "nbinclude(\"optimise.ipynb\") # -> optimise!\n",
    "#include(\"params.jl\")\n",
    "#include(\"cost_function.jl\")\n",
    "\n",
    "\n",
    "###########\n",
    "# Exports #\n",
    "###########\n",
    "\n",
    "export log_likelihood, score, score_penalised, optimise!, RKHS_params\n",
    "\n",
    "\n",
    "\n",
    "end\n",
    "\n"
   ]
  },
  {
   "cell_type": "code",
   "execution_count": null,
   "metadata": {
    "collapsed": true
   },
   "outputs": [],
   "source": []
  }
 ],
 "metadata": {
  "kernelspec": {
   "display_name": "Julia 0.4.5",
   "language": "julia",
   "name": "julia-0.4"
  },
  "language_info": {
   "file_extension": ".jl",
   "mimetype": "application/julia",
   "name": "julia",
   "version": "0.4.5"
  }
 },
 "nbformat": 4,
 "nbformat_minor": 0
}
