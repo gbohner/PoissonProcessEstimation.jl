{
 "cells": [
  {
   "cell_type": "code",
   "execution_count": 26,
   "metadata": {
    "collapsed": false
   },
   "outputs": [
    {
     "ename": "LoadError",
     "evalue": "LoadError: UndefVarError: PoissonProcessParams not defined\nwhile loading In[26], in expression starting on line 433",
     "output_type": "error",
     "traceback": [
      "LoadError: UndefVarError: PoissonProcessParams not defined\nwhile loading In[26], in expression starting on line 433",
      ""
     ]
    }
   ],
   "source": [
    "\"\"\"\n",
    "Compute the required kernel quantities for trial n\n",
    "\n",
    "* \\$\\$K^{n}_{tu} \\\\in \\\\mathcal{R}^{\\\\sum_m\\\\mathcal{T}_m\\\\times\\\\sum_d J_d}\\$\\$\n",
    "\n",
    "* \\$\\$K^{n}_{<t>u} \\\\in \\\\mathcal{R}^{M\\\\times\\\\sum_d J_d}\\$\\$\n",
    "\n",
    "* \\$\\$K_{uu} \\\\in \\\\mathcal{R}^{M\\\\times\\\\sum_d J_d}\\$\\$\n",
    "\n",
    "and their derivatives for inferring the \\$ \\\\alpha_d^n \\$ in closed form\n",
    "\"\"\"\n",
    "function build_kernels_infer(data::AbstractArray, θ::Union{PoissonProcessParams, AbstractArray}, \n",
    "                             KernList::AbstractArray, n)\n",
    "    \n",
    "    C, α, u, N, M, D, J = name_params(θ)\n",
    "    \n",
    "    # Count inducing points\n",
    "    Jtot = convert(Integer, sum(J))\n",
    "    \n",
    "    # Count spikes\n",
    "    I = zeros(M)\n",
    "    for m = 1:M\n",
    "        I[m] = convert(Integer,length(data[n][m]))\n",
    "    end\n",
    "    Itot = convert(Integer,sum(I))\n",
    "    \n",
    "\n",
    "    #Initialise kernel matrices and derivatives\n",
    "    Ktu = zeros(Itot,Jtot)\n",
    "    dtKtu = zeros(Itot,Jtot)\n",
    "    ddtKtu = zeros(Itot,Jtot)\n",
    "    \n",
    "    \n",
    "    Kuu = zeros(Jtot,Jtot)\n",
    "    \n",
    "    Tn = zeros(M)\n",
    "    for d = 1:D\n",
    "        u_inds = (d>1?cumsum(J)[d-1]+1:1):cumsum(J)[d];\n",
    "        \n",
    "        # Compute kernel derivatives wrt t given the u\n",
    "        t = [t->kernel(KernList[d], t, u1) for u1 in u[d]]\n",
    "        dt = [Calculus.derivative(t->kernel(KernList[d], t, u1)) for u1 in u[d]]\n",
    "        ddt = [Calculus.second_derivative(t->kernel(KernList[d], t, u1)) for u1 in u[d]]\n",
    "        for m = 1:M\n",
    "            for i = 1:I[m]\n",
    "                Ktu[i,u_inds] = [t1(data[n][m][i]) for t1 in t]\n",
    "                dtKtu[i,u_inds] = [dt1(data[n][m][i]) for dt1 in dt]\n",
    "                ddtKtu[i,u_inds] = [ddt1(data[n][m][i]) for ddt1 in ddt]\n",
    "            end\n",
    "        end\n",
    "        \n",
    "        Kuu[u_inds, u_inds] = \n",
    "            kernelmatrix(KernList[d],reshape(u[d],J[d],1))\n",
    "    end     \n",
    "            \n",
    "    return Ktu, dtKtu, ddtKtu, Kuu, I\n",
    "    \n",
    "end"
   ]
  },
  {
   "cell_type": "code",
   "execution_count": null,
   "metadata": {
    "collapsed": true
   },
   "outputs": [],
   "source": []
  }
 ],
 "metadata": {
  "kernelspec": {
   "display_name": "Julia 0.4.5",
   "language": "julia",
   "name": "julia-0.4"
  },
  "language_info": {
   "file_extension": ".jl",
   "mimetype": "application/julia",
   "name": "julia",
   "version": "0.4.5"
  }
 },
 "nbformat": 4,
 "nbformat_minor": 0
}
