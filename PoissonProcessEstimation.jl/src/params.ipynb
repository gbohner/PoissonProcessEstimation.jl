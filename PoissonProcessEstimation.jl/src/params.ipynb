{
 "cells": [
  {
   "cell_type": "code",
   "execution_count": 1,
   "metadata": {
    "collapsed": false
   },
   "outputs": [
    {
     "ename": "LoadError",
     "evalue": "LoadError: UndefVarError: PoissonProcessParams not defined\nwhile loading In[1], in expression starting on line 442",
     "output_type": "error",
     "traceback": [
      "LoadError: UndefVarError: PoissonProcessParams not defined\nwhile loading In[1], in expression starting on line 442",
      ""
     ]
    }
   ],
   "source": [
    "\"\"\"\n",
    "Define Point Process parameters <br>\n",
    "`C::AbstractArray` - Loading matrix M x D <br>\n",
    "`α::AbstractArray` - RKHS reconstruction weigths N x D x {J_i} <br>\n",
    "`u::AbstractArray` - RKHS inducing points D x {J_i} <br>\n",
    "`b::AbstractArray` - Log mean firing rates M x 1\n",
    "\"\"\"\n",
    "type RKHS_params <: PoissonProcessParams\n",
    "    C::AbstractArray # M x D\n",
    "    α::AbstractArray # N x D x {J_i}\n",
    "    u::AbstractArray # D x {J_i}\n",
    "    b::AbstractArray # M x 1\n",
    "end\n",
    "\n",
    "# Given N, M, D and J it creates RKHS_params\n",
    "function create_rand_params{T<:Integer}(N::T, M::T, D::T, J::AbstractArray{T})\n",
    "    #C = rand(M,D)\n",
    "    C = ones(M,D)\n",
    "    α = Array(Any, N, D)\n",
    "    u = Array(Any, D)\n",
    "    b = zeros(M)\n",
    "    \n",
    "    for d = 1:D\n",
    "        #u[d] = rand(J[d])\n",
    "        u[d] = linspace(0.1, 0.9, J[d])\n",
    "        for n = 1:N\n",
    "            α[n,d] = randn(J[d])*0.5\n",
    "        end\n",
    "    end\n",
    "    \n",
    "    return RKHS_params(C, α, u, b)\n",
    "end\n",
    "\n",
    "\n",
    "function name_params(params::RKHS_params)\n",
    "    C=params.C\n",
    "    α=params.α\n",
    "    u=params.u\n",
    "    \n",
    "    N = size(α,1)\n",
    "    M = size(C,1)\n",
    "    D = size(C,2)\n",
    "    \n",
    "    J = Array(Integer, D)\n",
    "    for d = 1:D\n",
    "        J[d] = round(length(u[d]),1)\n",
    "    end \n",
    "    \n",
    "    return C, α, u, N, M, D, J\n",
    "end\n",
    "\n",
    "function param_to_vec(θ::RKHS_params)\n",
    "    C, α, u, N, M, D, J = name_params(θ)\n",
    "    out = Array(Any,3)\n",
    "    out[1] = C\n",
    "    out[2] = α\n",
    "    out[3] = u\n",
    "    return out\n",
    "end\n",
    "\n",
    "function vec_to_param(params::AbstractArray)\n",
    "    return RKHS_params(out...)\n",
    "end"
   ]
  },
  {
   "cell_type": "code",
   "execution_count": null,
   "metadata": {
    "collapsed": true
   },
   "outputs": [],
   "source": [
    "# Define Optimisation parameters"
   ]
  }
 ],
 "metadata": {
  "kernelspec": {
   "display_name": "Julia 0.4.5",
   "language": "julia",
   "name": "julia-0.4"
  },
  "language_info": {
   "file_extension": ".jl",
   "mimetype": "application/julia",
   "name": "julia",
   "version": "0.4.5"
  }
 },
 "nbformat": 4,
 "nbformat_minor": 0
}
