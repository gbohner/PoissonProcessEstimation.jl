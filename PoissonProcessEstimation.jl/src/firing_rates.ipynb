{
 "cells": [
  {
   "cell_type": "code",
   "execution_count": null,
   "metadata": {
    "collapsed": true
   },
   "outputs": [],
   "source": [
    "function firing_rates(t_grid, θ::PoissonProcessParams, KernList::AbstractArray; n_range=[], d_range=[], m_range=[])\n",
    "    C, α, u, N, M, D, J = name_params(θ)\n",
    "    b = θ.b\n",
    "    \n",
    "    if isempty(n_range) n_range = 1:N end\n",
    "    if isempty(m_range) m_range = 1:M end\n",
    "    if isempty(d_range) d_range = 1:D end\n",
    "    \n",
    "    latent_funcs = Array(Any,(maximum(n_range), maximum(d_range)))\n",
    "    for n = n_range\n",
    "        for d = d_range\n",
    "            tmp = function(t::Float64)\n",
    "                out = 0\n",
    "                for j = 1:length(u[d])\n",
    "                     out += (α[n,d][j] * kernel(KernList[d], t, u[d][j]));\n",
    "                end\n",
    "                return out\n",
    "            end\n",
    "            latent_funcs[n, d] = tmp\n",
    "        end\n",
    "    end\n",
    "    \n",
    "    firing_rate = Array(Any, (maximum(n_range), maximum(m_range)))\n",
    "    for n = n_range\n",
    "        for m = m_range\n",
    "            firing_rate[n,m] = zeros(length(t_grid))\n",
    "            for t = 1:length(t_grid)\n",
    "                for d = d_range\n",
    "                    firing_rate[n,m][t] += C[m,d]*latent_funcs[n,d](t_grid[t]);\n",
    "                end\n",
    "            end\n",
    "            firing_rate[n,m] = exp(firing_rate[n,m]+b[m]) # exponential link function\n",
    "        end\n",
    "    end\n",
    "                \n",
    "    return firing_rate\n",
    "end"
   ]
  }
 ],
 "metadata": {
  "kernelspec": {
   "display_name": "Julia 0.4.5",
   "language": "julia",
   "name": "julia-0.4"
  },
  "language_info": {
   "file_extension": ".jl",
   "mimetype": "application/julia",
   "name": "julia",
   "version": "0.4.5"
  }
 },
 "nbformat": 4,
 "nbformat_minor": 0
}
