{
 "cells": [
  {
   "cell_type": "code",
   "execution_count": 1,
   "metadata": {
    "collapsed": false
   },
   "outputs": [
    {
     "data": {
      "text/plain": [
       "firing_rates (generic function with 1 method)"
      ]
     },
     "execution_count": 1,
     "metadata": {},
     "output_type": "execute_result"
    }
   ],
   "source": [
    "# Visualisation functions\n",
    "function firing_rates(t_grid, θ::PoissonProcessParams, KernList::AbstractArray; n_range=1, d_range=1, m_range=1)\n",
    "    C, α, u, N, M, D, J = name_params(θ)\n",
    "    latent_funcs = Array(Any,(maximum(n_range), maximum(d_range)))\n",
    "    for n = n_range\n",
    "        for d = d_range\n",
    "            tmp = function(t::Float64)\n",
    "                out = 0\n",
    "                for j = 1:length(u[d])\n",
    "                     out += (α[n,d][j] * kernel(KernList[d], t, u[d][j]));\n",
    "                end\n",
    "                return out\n",
    "            end\n",
    "            latent_funcs[n, d] = tmp\n",
    "        end\n",
    "    end\n",
    "    \n",
    "    firing_rate = Array(Any, (maximum(n_range), maximum(m_range)))\n",
    "    for n = n_range\n",
    "        for m = m_range\n",
    "            firing_rate[n,m] = zeros(length(t_grid))\n",
    "            for t = 1:length(t_grid)\n",
    "                for d = d_range\n",
    "                    firing_rate[n,m][t] += C[m,d]*latent_funcs[n,d](t_grid[t]);\n",
    "                end\n",
    "            end\n",
    "            firing_rate[n,m] = exp(firing_rate[n,m]) # exponential link function\n",
    "        end\n",
    "    end\n",
    "                \n",
    "    return firing_rate\n",
    "end"
   ]
  },
  {
   "cell_type": "code",
   "execution_count": null,
   "metadata": {
    "collapsed": true
   },
   "outputs": [],
   "source": [
    "# Plot data, true rate function and estimated rate function for a neuron on given trials\n",
    "using PlotlyJS\n",
    "\n",
    "function plot_params(data, θ_opt, θ_orig, KernList; \n",
    "                     num_neur = 1, trials = 1:5, dim_latent = [])\n",
    "    \n",
    "    C, α, u, N, M, D, J = name_params(θ_opt)\n",
    "    if isempty(dim_latent)\n",
    "        dim_latent = 1:D\n",
    "    end\n",
    "\n",
    "    #Plot estimated\n",
    "    to_plot = Array(PlotlyJS.GenericTrace{Dict{Symbol,Any}}, size(data,1))\n",
    "    rate_rand_plot = Array(PlotlyJS.GenericTrace{Dict{Symbol,Any}}, size(data,1))\n",
    "    rate_est_plot = Array(PlotlyJS.GenericTrace{Dict{Symbol,Any}}, size(data,1))\n",
    "    latent_plot = Array(PlotlyJS.GenericTrace{Dict{Symbol,Any}}, size(data,1))\n",
    "    latent_est_plot = Array(PlotlyJS.GenericTrace{Dict{Symbol,Any}}, size(data,1))\n",
    "    colors = [\"rgb(0,0,255)\", \"rgb(0,255,0)\", \"rgb(255,0,0)\", \"rgb(128,128,0)\", \"rgb(0,128,128)\"]\n",
    "    for i1 = trials\n",
    "        #@show collect(data[i1][num_neur])\n",
    "        # Plot data\n",
    "        to_plot[i1] = scatter(;x=collect(data[i1][num_neur]), y=i1*collect(ones(size(data[i1][num_neur]))), mode=\"markers\", marker_color=colors[mod(i1,5)+1], yaxis=\"y2\")\n",
    "\n",
    "        # Compute underlying rate and latent functions\n",
    "        rate_rand = firing_rates(0:0.001:1, θ_orig, KernList, n_range=i1, d_range=dim_latent, m_range=num_neur)\n",
    "        rate_est = firing_rates(0:0.001:1, θ_opt, KernList, n_range=i1, d_range=dim_latent, m_range=num_neur)\n",
    "\n",
    "\n",
    "        rate_est_plot[i1] = scatter(; \n",
    "        x=collect(0:0.001:1), \n",
    "        y=collect(rate_est[i1, num_neur]),\n",
    "        line_color = colors[mod(i1,5)+1],\n",
    "        yaxis = \"y0\"\n",
    "    )\n",
    "\n",
    "        rate_rand_plot[i1] = scatter(; \n",
    "        x=collect(0:0.001:1), \n",
    "        y=collect(rate_rand[i1, num_neur]),\n",
    "        line_color = colors[mod(i1,5)+1],\n",
    "        yaxis = \"y0\"\n",
    "    )\n",
    "\n",
    "    end\n",
    "\n",
    "    lo = Layout(;xaxis_range=[0,1])\n",
    "\n",
    "    #plt = plot([Plot(to_plot[trials]); Plot(rate_plot[trials]);  Plot(rate_est_plot[trials]);  Plot(latent_plot[trials]);  Plot(latent_est_plot[trials])])\n",
    "    #plt = plot([Plot(to_plot[trials], lo); Plot(rate_est_plot[trials], lo); Plot(rate_rand_plot[trials],lo)])\n",
    "    plt = plot([Plot(to_plot[trials], lo); Plot(rate_est_plot[trials],lo); Plot(rate_rand_plot[trials],lo)])\n",
    "\n",
    "    relayout!(plt, height=700)\n",
    "\n",
    "    plt\n",
    "end"
   ]
  }
 ],
 "metadata": {
  "kernelspec": {
   "display_name": "Julia 0.4.5",
   "language": "julia",
   "name": "julia-0.4"
  },
  "language_info": {
   "file_extension": ".jl",
   "mimetype": "application/julia",
   "name": "julia",
   "version": "0.4.5"
  }
 },
 "nbformat": 4,
 "nbformat_minor": 0
}
