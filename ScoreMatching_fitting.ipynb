{
 "cells": [
  {
   "cell_type": "markdown",
   "metadata": {},
   "source": [
    "# Score matching fitting\n",
    "\n",
    "Given data, identify the parameters that have generated the data"
   ]
  },
  {
   "cell_type": "code",
   "execution_count": 2,
   "metadata": {
    "collapsed": true
   },
   "outputs": [],
   "source": [
    "using NBInclude\n",
    "nbinclude(\"ScoreMatching_functions.ipynb\")"
   ]
  },
  {
   "cell_type": "markdown",
   "metadata": {},
   "source": [
    "# 1. Simulate from the model, and fit it"
   ]
  },
  {
   "cell_type": "code",
   "execution_count": 3,
   "metadata": {
    "collapsed": false
   },
   "outputs": [],
   "source": [
    "# Simulate from the model\n",
    "# x.T, x.C, x.θ, x.ϕ, x.b, x.ω\n",
    "M = 30;\n",
    "N = 10;\n",
    "D = 2;\n",
    "F = 10;\n",
    "true_params = GLMparams(1, randn(M,D), randn(D,F)*1, 2*π.*rand(F, N), log(30)*ones(M,1), 1);"
   ]
  },
  {
   "cell_type": "code",
   "execution_count": 4,
   "metadata": {
    "collapsed": false
   },
   "outputs": [
    {
     "data": {
      "text/plain": [
       "GLMparams(1.0,30x2 Array{Float64,2}:\n",
       " -0.933217     1.14466  \n",
       "  1.37182      1.61513  \n",
       " -0.696183     1.36395  \n",
       " -1.25258     -0.48193  \n",
       " -0.63088      0.975209 \n",
       "  0.66298      1.11153  \n",
       "  0.673712     0.908612 \n",
       " -1.8503      -0.793366 \n",
       " -1.08658     -1.76192  \n",
       " -0.427392     0.872005 \n",
       "  0.00861754  -0.824733 \n",
       "  0.0214746    1.26779  \n",
       " -0.751883     0.354218 \n",
       "  ⋮                     \n",
       "  0.437354     0.654209 \n",
       " -0.988615    -1.03638  \n",
       "  0.159689    -0.867337 \n",
       "  0.0953768    0.213425 \n",
       " -0.587592     0.507638 \n",
       "  2.2126       0.26419  \n",
       "  1.28432      0.0406557\n",
       "  0.737234     0.39743  \n",
       "  0.16096      0.328445 \n",
       " -0.573165     0.388946 \n",
       "  0.41135      0.412065 \n",
       " -0.768362    -1.20444  ,2x10 Array{Float64,2}:\n",
       " 0.207199  -2.43187     0.303844  …   0.46812    0.0511663   1.01697\n",
       " 1.90551    0.0586708  -0.252425     -0.740425  -0.61819    -1.54911,10x10 Array{Float64,2}:\n",
       " 4.80312  2.93481   0.34801   4.19881   …  1.10367   4.29432   2.8531  \n",
       " 3.84978  3.93161   1.04255   3.31057      5.35239   1.01982   3.72746 \n",
       " 3.91458  4.96211   3.88794   0.90279      0.8011    0.771004  1.37049 \n",
       " 1.61282  4.75827   0.902191  0.279909     0.761688  3.1746    1.20146 \n",
       " 3.06975  1.37237   2.76411   1.13527      5.69916   3.19512   1.42705 \n",
       " 1.5824   0.49495   4.34435   2.10897   …  6.03856   2.60132   1.22499 \n",
       " 4.9108   0.830793  5.4916    5.06354      4.64824   5.14276   6.23653 \n",
       " 5.62069  0.78752   5.63013   5.26455      4.201     1.94991   2.21727 \n",
       " 3.213    5.99679   4.18332   1.74538      2.52328   3.93883   4.2819  \n",
       " 6.10529  6.05383   1.30932   0.725066     1.27917   5.37782   0.964213,30x1 Array{Float64,2}:\n",
       " 3.4012\n",
       " 3.4012\n",
       " 3.4012\n",
       " 3.4012\n",
       " 3.4012\n",
       " 3.4012\n",
       " 3.4012\n",
       " 3.4012\n",
       " 3.4012\n",
       " 3.4012\n",
       " 3.4012\n",
       " 3.4012\n",
       " 3.4012\n",
       " ⋮     \n",
       " 3.4012\n",
       " 3.4012\n",
       " 3.4012\n",
       " 3.4012\n",
       " 3.4012\n",
       " 3.4012\n",
       " 3.4012\n",
       " 3.4012\n",
       " 3.4012\n",
       " 3.4012\n",
       " 3.4012\n",
       " 3.4012,1.0)"
      ]
     },
     "execution_count": 4,
     "metadata": {},
     "output_type": "execute_result"
    }
   ],
   "source": [
    "# Define loss function, then fit it least squares"
   ]
  },
  {
   "cell_type": "code",
   "execution_count": null,
   "metadata": {
    "collapsed": true
   },
   "outputs": [],
   "source": []
  }
 ],
 "metadata": {
  "kernelspec": {
   "display_name": "Julia 0.4.5",
   "language": "julia",
   "name": "julia-0.4"
  },
  "language_info": {
   "file_extension": ".jl",
   "mimetype": "application/julia",
   "name": "julia",
   "version": "0.4.5"
  }
 },
 "nbformat": 4,
 "nbformat_minor": 0
}
